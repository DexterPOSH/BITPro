{
 "cells": [
  {
   "cell_type": "markdown",
   "metadata": {},
   "source": [
    "# PowerShell Classes\n",
    "\n",
    "PowerShell class support was rolled out in PowerShell v5 to enable authoring DSC resources easier. But PowerShell classes bring much more to the table."
   ]
  },
  {
   "cell_type": "markdown",
   "metadata": {},
   "source": [
    "## Function vs Class\n",
    "\n",
    "Writing functions is a procedural way of doing things, where we break down a task into a set of procedures or functions. Functions are a good candidate for an interactive experience for an end-user and focus more on it.\n",
    "\n",
    "Whereas using Class is an object-oriented approach is to break down a programming task into objects that expose behavior (methods) and data (members or attributes) using interfaces. Classes are good for modeling complicated systems and writing more maintainable code.\n",
    "\n",
    "Bear this in mind when you want to leverage PowerShell classes in your day to day work."
   ]
  },
  {
   "cell_type": "markdown",
   "metadata": {},
   "source": [
    "## Class\n",
    "\n",
    "Class are blueprints for the objects. In the class you define what data to store (properties) and behavior (methods) that manipulates the data stored."
   ]
  },
  {
   "cell_type": "code",
   "execution_count": 49,
   "metadata": {},
   "outputs": [],
   "source": [
    "Class Computer {} # Empty class"
   ]
  },
  {
   "cell_type": "code",
   "execution_count": 50,
   "metadata": {},
   "outputs": [
    {
     "name": "stdout",
     "output_type": "stream",
     "text": [
      "Computer\n"
     ]
    }
   ],
   "source": [
    "[Computer]::new() # Create a new class"
   ]
  },
  {
   "cell_type": "markdown",
   "metadata": {},
   "source": [
    "## Properties\n",
    "\n",
    "Let's add some Computer class properties which are present on an actual Computer object in real world."
   ]
  },
  {
   "cell_type": "code",
   "execution_count": 51,
   "metadata": {},
   "outputs": [],
   "source": [
    "Class Computer {\n",
    "    $hostName\n",
    "    $ipAddress\n",
    "}"
   ]
  },
  {
   "cell_type": "code",
   "execution_count": 52,
   "metadata": {},
   "outputs": [],
   "source": [
    "$Computer = [Computer]::new() # Create an instance \n",
    "$Computer.hostName = \"testvm1\" # provide the property values after creating\n",
    "$Computer.ipAddress = \"10.10.10.10\""
   ]
  },
  {
   "cell_type": "code",
   "execution_count": 53,
   "metadata": {},
   "outputs": [
    {
     "name": "stdout",
     "output_type": "stream",
     "text": [
      "\n",
      "hostName ipAddress\n",
      "-------- ---------\n",
      "testvm1  10.10.10.10\n",
      "\n"
     ]
    }
   ],
   "source": [
    "$Computer"
   ]
  },
  {
   "cell_type": "markdown",
   "metadata": {},
   "source": [
    "> Trick - Cast initialization (PowerShell syntactic sugar)\n",
    "\n",
    "Create an instance and provide all the property values in one step."
   ]
  },
  {
   "cell_type": "code",
   "execution_count": 54,
   "metadata": {},
   "outputs": [
    {
     "name": "stdout",
     "output_type": "stream",
     "text": [
      "\n",
      "hostName ipAddress\n",
      "-------- ---------\n",
      "testvm1  10.10.10.10\n",
      "\n"
     ]
    }
   ],
   "source": [
    "$Computer = [Computer] @{ \"hostName\" = \"testvm1\"; \"ipAddress\" = \"10.10.10.10\" }\n",
    "$Computer"
   ]
  },
  {
   "cell_type": "markdown",
   "metadata": {},
   "source": [
    "### TypeCasting Properties\n",
    "\n",
    "We can place a type on our Class properties to make them strongly typed and take care of some validation. "
   ]
  },
  {
   "cell_type": "code",
   "execution_count": 55,
   "metadata": {},
   "outputs": [],
   "source": [
    "Class Computer {\n",
    "    [String] $hostName\n",
    "    [Net.IpAddress] $ipAddress\n",
    "}"
   ]
  },
  {
   "cell_type": "code",
   "execution_count": 56,
   "metadata": {},
   "outputs": [
    {
     "name": "stdout",
     "output_type": "stream",
     "text": [
      "\n",
      "hostName ipAddress\n",
      "-------- ---------\n",
      "testvm1  10.10.10.10\n",
      "\n"
     ]
    }
   ],
   "source": [
    "$Computer = [Computer] @{ \"hostName\" = \"testvm1\"; \"ipAddress\" = \"10.10.10.10\" }\n",
    "$Computer"
   ]
  },
  {
   "cell_type": "code",
   "execution_count": 57,
   "metadata": {},
   "outputs": [
    {
     "name": "stdout",
     "output_type": "stream",
     "text": [
      "\u001b[91mInvalidArgument: \u001b[91mCannot create object of type \"Computer\". Cannot convert value \"10.256.10.10\" to type \"System.Net.IPAddress\". Error: \"An invalid IP address was specified.\"\u001b[0m\n"
     ]
    }
   ],
   "source": [
    "$Computer = [Computer] @{ \"hostName\" = \"testvm1\"; \"ipAddress\" = \"10.256.10.10\" } # See how typecasting takes care of some validation logic"
   ]
  },
  {
   "cell_type": "markdown",
   "metadata": {},
   "source": [
    "### Validate Attributes for Properties\n",
    "\n",
    "In PowerShell function we often use Validate attributes, we can do the same here. "
   ]
  },
  {
   "cell_type": "code",
   "execution_count": 58,
   "metadata": {},
   "outputs": [],
   "source": [
    "Class Computer {\n",
    "    [ValidateLength(5, 15)] # hostname in AD can't be more than 15 chars\n",
    "    [String] $hostName\n",
    "    \n",
    "    [Net.IpAddress] $ipAddress\n",
    "}"
   ]
  },
  {
   "cell_type": "code",
   "execution_count": 59,
   "metadata": {},
   "outputs": [
    {
     "name": "stdout",
     "output_type": "stream",
     "text": [
      "\u001b[91mInvalidArgument: \u001b[91mCannot create object of type \"Computer\". The character length of the 24 argument is too long. Shorten the character length of the argument so it is fewer than or equal to \"15\" characters, and then try the command again.\u001b[0m\n"
     ]
    }
   ],
   "source": [
    "[Computer] @{ \"hostName\" = \"test-vm1-thisisalongname\"; \"ipAddress\" = \"10.10.10.10\" }"
   ]
  },
  {
   "cell_type": "markdown",
   "metadata": {},
   "source": [
    "## Methods\n",
    "\n",
    "Methods define the behavior of the object of the class, it can leverage the properties on the object instance.\n",
    "\n",
    "Let's add a method which checks if the machine is alive for a computer. "
   ]
  },
  {
   "cell_type": "code",
   "execution_count": 60,
   "metadata": {},
   "outputs": [],
   "source": [
    "Class Computer {\n",
    "    [ValidateLength(5, 15)] # hostname in AD can't be more than 15 chars\n",
    "    [String] $hostName\n",
    "    \n",
    "    [Net.IpAddress] $ipAddress\n",
    "    \n",
    "    [bool] IsAlive() {\n",
    "        return Test-Connection -ComputerName $this.ipAddress -Count 2 -Quiet\n",
    "    }\n",
    "}"
   ]
  },
  {
   "cell_type": "code",
   "execution_count": 61,
   "metadata": {},
   "outputs": [],
   "source": [
    "$Computer = [Computer] @{ \"hostName\" = \"localhost\"; \"ipAddress\" = \"127.0.0.1\" }"
   ]
  },
  {
   "cell_type": "code",
   "execution_count": 62,
   "metadata": {},
   "outputs": [
    {
     "name": "stdout",
     "output_type": "stream",
     "text": [
      "True\n"
     ]
    }
   ],
   "source": [
    "$Computer.IsAlive()"
   ]
  },
  {
   "cell_type": "markdown",
   "metadata": {},
   "source": [
    "## Constructors\n",
    "\n",
    "Up until now we have been specifying all the properties ourselves while creating an instance of the class.\n",
    "However, you can add a constructor (similar to method) to place an initialization logic for the instance of your class.\n",
    "\n",
    "For our computer class, let's take the FQDN as the input for the initialization."
   ]
  },
  {
   "cell_type": "code",
   "execution_count": 63,
   "metadata": {},
   "outputs": [],
   "source": [
    "Class Computer {\n",
    "    [ValidateLength(5, 15)] # hostname in AD can't be more than 15 chars\n",
    "    [String] $hostName\n",
    "    \n",
    "    [Net.IpAddress] $ipAddress\n",
    "    \n",
    "    Computer([String] $FQDN) {\n",
    "        if (-not $FQDN.contains('.')) {\n",
    "            throw \"Specify an FQDN e.g. vmName.domain.com\"\n",
    "        }\n",
    "        \n",
    "        $this.hostName = $FQDN.Split('.')[0]\n",
    "        $this.IpAddress = (Test-Connection -ComputerName $FQDN -IPv4 -Count 1).Address.ToString()\n",
    "    }\n",
    "    \n",
    "    [bool] IsAlive() {\n",
    "        return Test-Connection -ComputerName $this.ipAddress -Count 2 -Quiet\n",
    "    }\n",
    "}"
   ]
  },
  {
   "cell_type": "code",
   "execution_count": 64,
   "metadata": {},
   "outputs": [
    {
     "name": "stdout",
     "output_type": "stream",
     "text": [
      "\u001b[91mException: \n",
      "\u001b[96mLine |\n",
      "\u001b[96m   9 | \u001b[0m             \u001b[96mthrow \"Specify an FQDN e.g. vmName.domain.com\"\u001b[0m\n",
      "\u001b[96m     | \u001b[91m             ~~~~~~~~~~~~~~~~~~~~~~~~~~~~~~~~~~~~~~~~~~~~~~\n",
      "\u001b[91m\u001b[96m     | \u001b[91mSpecify an FQDN e.g. vmName.domain.com\u001b[0m\n"
     ]
    }
   ],
   "source": [
    "$Computer = [Computer]::new(\"localhost\")"
   ]
  },
  {
   "cell_type": "code",
   "execution_count": 65,
   "metadata": {},
   "outputs": [],
   "source": [
    "$Computer = [Computer]::new($(hostname))"
   ]
  },
  {
   "cell_type": "code",
   "execution_count": 66,
   "metadata": {},
   "outputs": [
    {
     "name": "stdout",
     "output_type": "stream",
     "text": [
      "\n",
      "hostName   ipAddress\n",
      "--------   ---------\n",
      "ddhami-mn2 172.16.37.226\n",
      "\n"
     ]
    }
   ],
   "source": [
    "$Computer"
   ]
  },
  {
   "cell_type": "code",
   "execution_count": 1,
   "metadata": {},
   "outputs": [
    {
     "data": {
      "text/html": [
       "\r\n",
       "<div>\r\n",
       "    <div id='dotnet-interactive-this-cell-49612' style='display: none'>\r\n",
       "        The below script needs to be able to find the current output cell; this is an easy method to get it.\r\n",
       "    </div>\r\n",
       "    <script type='text/javascript'>\r\n",
       "// ensure `requirejs` is available globally\r\n",
       "if (typeof requirejs !== typeof Function || typeof requirejs.config !== typeof Function) {\r\n",
       "    let requirejs_script = document.createElement('script');\r\n",
       "    requirejs_script.setAttribute('src', 'https://cdnjs.cloudflare.com/ajax/libs/require.js/2.3.6/require.min.js');\r\n",
       "    requirejs_script.setAttribute('type', 'text/javascript');\r\n",
       "    requirejs_script.onload = function () {\r\n",
       "        loadDotnetInteractiveApi();\r\n",
       "    };\r\n",
       "\r\n",
       "    document.getElementsByTagName('head')[0].appendChild(requirejs_script);\r\n",
       "}\r\n",
       "else {\r\n",
       "    loadDotnetInteractiveApi();\r\n",
       "}\r\n",
       "\r\n",
       "async function probeAddresses(probingAddresses) {\r\n",
       "    if (Array.isArray(probingAddresses)) {\r\n",
       "        for (let i = 0; i < probingAddresses.length; i++) {\r\n",
       "            \r\n",
       "            let rootUrl = probingAddresses[i];\r\n",
       "\r\n",
       "            if (!rootUrl.endsWith('/')) {\r\n",
       "                rootUrl = `${rootUrl}/`;\r\n",
       "            }\r\n",
       "\r\n",
       "            let response = await fetch(`${rootUrl}discovery`, {\r\n",
       "                method: 'POST',\r\n",
       "                headers: {\r\n",
       "                    'Content-Type': 'text/plain'\r\n",
       "                },\r\n",
       "                body: probingAddresses[i]\r\n",
       "            });\r\n",
       "\r\n",
       "            if (response.status == 200) {\r\n",
       "                return rootUrl;\r\n",
       "            }\r\n",
       "        }\r\n",
       "    }\r\n",
       "}\r\n",
       "\r\n",
       "function loadDotnetInteractiveApi() {\r\n",
       "    probeAddresses([\"http://192.168.0.105:49612/\", \"http://172.16.37.226:49612/\"])\r\n",
       "        .then((root) => {\r\n",
       "            // use probing to find host url and api resources\r\n",
       "            // load interactive helpers and language services\r\n",
       "            let dotnet_require = requirejs.config({\r\n",
       "                context: '47353.49612',\r\n",
       "                paths: {\r\n",
       "                    'dotnet-interactive': `${root}resources`\r\n",
       "                }\r\n",
       "            });\r\n",
       "            if (!window.dotnet_require) {\r\n",
       "                window.dotnet_require = dotnet_require;\r\n",
       "            }\r\n",
       "        \r\n",
       "            dotnet_require([\r\n",
       "                    'dotnet-interactive/dotnet-interactive',\r\n",
       "                    'dotnet-interactive/lsp',\r\n",
       "                    'dotnet-interactive/editor-detection'\r\n",
       "                ],\r\n",
       "                function (dotnet, lsp, editor) {\r\n",
       "                    dotnet.init(window);\r\n",
       "                    \r\n",
       "                },\r\n",
       "                function (error) {\r\n",
       "                    console.log(error);\r\n",
       "                }\r\n",
       "            );\r\n",
       "        })\r\n",
       "        .catch(error => {console.log(error);});\r\n",
       "    }\r\n",
       "    </script>\r\n",
       "</div>"
      ]
     },
     "metadata": {},
     "output_type": "display_data"
    },
    {
     "name": "stdout",
     "output_type": "stream",
     "text": [
      "\u001b[91mInvalidOperation: \u001b[91mYou cannot call a method on a null-valued expression.\u001b[0m\n"
     ]
    }
   ],
   "source": [
    "$Computer.IsAlive()\n"
   ]
  },
  {
   "cell_type": "markdown",
   "metadata": {},
   "source": [
    "## Classes + Functions = Awesome tooling\n",
    "\n",
    "You must be wondering how both of these co-exist in your tooling.\n",
    "Classes can be used for the backend implementation and functions can be the way user consumes the functionality exposed.\n",
    "\n",
    "For example - with the `Computer` class we have been building, we can add a function which uses it."
   ]
  },
  {
   "cell_type": "code",
   "execution_count": 8,
   "metadata": {},
   "outputs": [],
   "source": [
    "Class Computer {\n",
    "    [ValidateLength(5, 15)] # hostname in AD can't be more than 15 chars\n",
    "    [String] $hostName\n",
    "    \n",
    "    [Net.IpAddress] $ipAddress\n",
    "    \n",
    "    Computer([String] $FQDN) {\n",
    "        if (-not $FQDN.contains('.')) {\n",
    "            throw \"Specify an FQDN e.g. vmName.domain.com\"\n",
    "        }\n",
    "        \n",
    "        $this.hostName = $FQDN.Split('.')[0]\n",
    "        $this.IpAddress = (Test-Connection -ComputerName $FQDN -IPv4 -Count 1).Address.ToString()\n",
    "    }\n",
    "    \n",
    "    [bool] IsAlive() {\n",
    "        return Test-Connection -ComputerName $this.ipAddress -Count 2 -Quiet\n",
    "    }\n",
    "}\n",
    "\n",
    "Function Test-ComputerAlive {\n",
    "    param(\n",
    "        [Parameter(Mandatory = $true)]\n",
    "        [String] $ComputerName\n",
    "    )\n",
    "    end {\n",
    "        $computerObject = [Computer]::new($ComputerName)\n",
    "        $computerObject.IsAlive()\n",
    "    }\n",
    "}"
   ]
  },
  {
   "cell_type": "code",
   "execution_count": 9,
   "metadata": {},
   "outputs": [
    {
     "name": "stdout",
     "output_type": "stream",
     "text": [
      "True\n"
     ]
    }
   ],
   "source": [
    "Test-ComputerAlive -ComputerName $(hostname)"
   ]
  }
 ],
 "metadata": {
  "kernelspec": {
   "display_name": ".NET (PowerShell)",
   "language": "PowerShell",
   "name": ".net-powershell"
  },
  "language_info": {
   "file_extension": ".ps1",
   "mimetype": "text/x-powershell",
   "name": "PowerShell",
   "pygments_lexer": "powershell",
   "version": "7.0"
  }
 },
 "nbformat": 4,
 "nbformat_minor": 4
}
