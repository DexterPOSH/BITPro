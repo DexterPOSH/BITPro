{
 "cells": [
  {
   "cell_type": "markdown",
   "metadata": {},
   "source": [
    "# Conditionals"
   ]
  },
  {
   "cell_type": "code",
   "execution_count": 26,
   "metadata": {},
   "outputs": [
    {
     "name": "stdout",
     "output_type": "stream",
     "text": [
      "x is greater than 3\n"
     ]
    }
   ],
   "source": [
    "$x = 5;\n",
    "if ($x -gt 3)\n",
    "{ \n",
    "    # condition\n",
    "    Write-Host \"x is greater than 3\";\n",
    "}"
   ]
  },
  {
   "cell_type": "code",
   "execution_count": 27,
   "metadata": {},
   "outputs": [
    {
     "name": "stdout",
     "output_type": "stream",
     "text": [
      "x is less than or equal to 3\n"
     ]
    }
   ],
   "source": [
    "$x = 1;\n",
    "if ($x -gt 3)\n",
    "{ \n",
    "    #condition\n",
    "    Write-Host \"x is greater than 3\";\n",
    "}\n",
    "else\n",
    "{\n",
    "    Write-Host \"x is less than or equal to 3\";\n",
    "}"
   ]
  },
  {
   "cell_type": "code",
   "execution_count": 30,
   "metadata": {},
   "outputs": [
    {
     "name": "stdout",
     "output_type": "stream",
     "text": [
      "x is greater than 3\n"
     ]
    }
   ],
   "source": [
    "$x = 3\n",
    "if ($x -gt 3)\n",
    "{\n",
    "    Write-Host \"x is greater than 3\";\n",
    "}\n",
    "elseif ($x -eq 3)\n",
    "{\n",
    "    Write-Host \"x is equal to 3\";\n",
    "}\n",
    "else\n",
    "{\n",
    "    Write-Host \"x is less than or equal to 3\"\n",
    "}"
   ]
  },
  {
   "cell_type": "code",
   "execution_count": 19,
   "metadata": {},
   "outputs": [
    {
     "name": "stdout",
     "output_type": "stream",
     "text": [
      "Current city is Bengaluru\n"
     ]
    }
   ],
   "source": [
    "$city = \"Bengaluru\"\n",
    "switch -Exact ($city) {\n",
    "    \"Mumbai\" {\n",
    "        Write-Host \"Current city is Mumbai\";\n",
    "        break;\n",
    "    }\n",
    "    \"Delhi\" {\n",
    "        Write-Host \"Current city is Delhi\";\n",
    "        break;\n",
    "    }\n",
    "    \"Bengaluru\"{\n",
    "        Write-Host \"Current city is Bengaluru\";\n",
    "        break;\n",
    "    }\n",
    "    \"Chennai\" {\n",
    "        Write-Host \"Current city is Chennai\";\n",
    "        break;\n",
    "    }\n",
    "    Default {\n",
    "        Write-Host \"No city is chosen\";\n",
    "        break;\n",
    "    }\n",
    "}"
   ]
  },
  {
   "cell_type": "code",
   "execution_count": 31,
   "metadata": {},
   "outputs": [
    {
     "name": "stdout",
     "output_type": "stream",
     "text": [
      "0\n",
      "1\n",
      "2\n",
      "3\n",
      "4\n",
      "5\n"
     ]
    }
   ],
   "source": [
    "for ($i = 0; $i -le 5; $i++) {\n",
    "    Write-Host $i\n",
    "}"
   ]
  },
  {
   "cell_type": "code",
   "execution_count": 33,
   "metadata": {},
   "outputs": [
    {
     "name": "stdout",
     "output_type": "stream",
     "text": [
      "Bengaluru\n",
      "Delhi\n",
      "Mumbai\n"
     ]
    }
   ],
   "source": [
    "$cities = @(\"Bengaluru\", \"Delhi\", \"Mumbai\")\n",
    "foreach ($city in $cities) {\n",
    "    Write-Host $city\n",
    "}"
   ]
  },
  {
   "cell_type": "code",
   "execution_count": 22,
   "metadata": {},
   "outputs": [
    {
     "name": "stdout",
     "output_type": "stream",
     "text": [
      "0\n",
      "1\n",
      "2\n",
      "3\n",
      "4\n"
     ]
    }
   ],
   "source": [
    "$i = 0;\n",
    "while ($i -lt 5) {\n",
    "    Write-Host $i\n",
    "    $i++\n",
    "}"
   ]
  },
  {
   "cell_type": "code",
   "execution_count": 23,
   "metadata": {},
   "outputs": [
    {
     "name": "stdout",
     "output_type": "stream",
     "text": [
      "0\n",
      "1\n",
      "2\n",
      "3\n",
      "4\n"
     ]
    }
   ],
   "source": [
    "$i = 0;\n",
    "do {\n",
    "    Write-Host $i;\n",
    "    $i++;\n",
    "} while ($i -lt 5)"
   ]
  },
  {
   "cell_type": "code",
   "execution_count": 34,
   "metadata": {},
   "outputs": [
    {
     "name": "stdout",
     "output_type": "stream",
     "text": [
      "0\n",
      "1\n",
      "2\n",
      "3\n"
     ]
    }
   ],
   "source": [
    "for ($i = 0; $i -lt 10; $i++) {\n",
    "    if ($i -eq 4) {\n",
    "        break;\n",
    "    }\n",
    "    Write-Host $i\n",
    "}"
   ]
  },
  {
   "cell_type": "code",
   "execution_count": 35,
   "metadata": {},
   "outputs": [
    {
     "name": "stdout",
     "output_type": "stream",
     "text": [
      "0\n",
      "1\n",
      "2\n",
      "3\n",
      "5\n",
      "6\n",
      "7\n",
      "8\n",
      "9\n"
     ]
    }
   ],
   "source": [
    "for ($i = 0; $i -lt 10; $i++) {\n",
    "    if ($i -eq 4) {\n",
    "        continue;\n",
    "    }\n",
    "    Write-Host $i\n",
    "}"
   ]
  },
  {
   "cell_type": "code",
   "execution_count": null,
   "metadata": {},
   "outputs": [],
   "source": []
  }
 ],
 "metadata": {
  "kernelspec": {
   "display_name": ".NET (PowerShell)",
   "language": "PowerShell",
   "name": ".net-powershell"
  },
  "language_info": {
   "file_extension": ".ps1",
   "mimetype": "text/x-powershell",
   "name": "PowerShell",
   "pygments_lexer": "powershell",
   "version": "7.0"
  }
 },
 "nbformat": 4,
 "nbformat_minor": 4
}
