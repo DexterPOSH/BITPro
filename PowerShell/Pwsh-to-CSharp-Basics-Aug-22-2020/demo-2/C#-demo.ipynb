{
 "cells": [
  {
   "cell_type": "markdown",
   "metadata": {},
   "source": [
    "# Conditionals\n",
    "\n",
    "Execute statement based on some condition. Can be classified into 2 broad categories:\n",
    "* Conditional Branching - if, if..else, switch\n",
    "* Conditional looping - for, while, do..while, foreach\n"
   ]
  },
  {
   "cell_type": "markdown",
   "metadata": {},
   "source": [
    "## If and If..Else statements\n",
    "\n",
    "`if` this condition met then execute this block."
   ]
  },
  {
   "cell_type": "code",
   "execution_count": 19,
   "metadata": {},
   "outputs": [],
   "source": [
    "int x = 5;\n",
    "if (x < 3)\n",
    "{ \n",
    "    // condition\n",
    "    Console.WriteLine(\"x is less than 3\");\n",
    "}"
   ]
  },
  {
   "cell_type": "markdown",
   "metadata": {},
   "source": [
    "Use `else` to execute if condition not met."
   ]
  },
  {
   "cell_type": "code",
   "execution_count": 20,
   "metadata": {},
   "outputs": [
    {
     "name": "stdout",
     "output_type": "stream",
     "text": [
      "x is less than or equal to 3\n"
     ]
    }
   ],
   "source": [
    "int x = 1;\n",
    "if (x > 3)\n",
    "{ \n",
    "    // condition\n",
    "    Console.WriteLine(\"x is greater than 3\");\n",
    "}\n",
    "else\n",
    "{\n",
    "    Console.WriteLine(\"x is less than or equal to 3\");\n",
    "}"
   ]
  },
  {
   "cell_type": "markdown",
   "metadata": {},
   "source": [
    "Use `if..else if..else if..else` to test multiple conditions."
   ]
  },
  {
   "cell_type": "code",
   "execution_count": 21,
   "metadata": {},
   "outputs": [
    {
     "name": "stdout",
     "output_type": "stream",
     "text": [
      "x is greater than 3\n"
     ]
    }
   ],
   "source": [
    "int x = 3;\n",
    "if (x >= 3)\n",
    "{ \n",
    "    // condition\n",
    "    Console.WriteLine(\"x is greater than 3\");\n",
    "}\n",
    "else if (x == 3)\n",
    "{\n",
    "    Console.WriteLine(\"x is equal to 3\");\n",
    "}\n",
    "else\n",
    "{\n",
    "    Console.WriteLine(\"x is less than 3\");\n",
    "}"
   ]
  },
  {
   "cell_type": "markdown",
   "metadata": {},
   "source": [
    "## Switch statements\n",
    "\n",
    "As we saw above it might become cumbersome to add too many `if..else if..else` statements. Use `Switch` statement when there are many conditions to test.\n",
    "\n",
    "> A break can save a lot of execution time because it \"ignores\" the execution of all the rest of the code in the switch block.\n"
   ]
  },
  {
   "cell_type": "code",
   "execution_count": 23,
   "metadata": {},
   "outputs": [
    {
     "name": "stdout",
     "output_type": "stream",
     "text": [
      "Current city is Bangalore\n"
     ]
    }
   ],
   "source": [
    "string city = \"Bangalore\";\n",
    "switch (city) // condition\n",
    "{\n",
    "    \n",
    "    case \"Mumbai\":\n",
    "        Console.WriteLine(\"Current city is Mumbai\");\n",
    "        break;\n",
    "    case \"Delhi\":\n",
    "        Console.WriteLine(\"Current city is Delhi\");\n",
    "        break;\n",
    "    case \"Bangalore\":\n",
    "        Console.WriteLine(\"Current city is Bangalore\");\n",
    "        break;\n",
    "    case \"Chennai\":\n",
    "        Console.WriteLine(\"Chennai\");\n",
    "        break;\n",
    "    default:\n",
    "        Console.WriteLine(\"No city is chosen!\");\n",
    "        break;\n",
    "}"
   ]
  },
  {
   "cell_type": "markdown",
   "metadata": {},
   "source": [
    "# Loops and Iterations\n",
    "\n",
    "Loops can execute a piece of code when condition is met, or in general they allow to concisely repeat logic.\n",
    "\n",
    "\n",
    "## For loop\n",
    "\n",
    "Used when we know how many times we need to repeat. Syntax very similar to PowerShell for loop.\n",
    "\n",
    "Syntax\n",
    "\n",
    "```csharp\n",
    "for (initialize; condition; increment)\n",
    "{\n",
    "    < statement >\n",
    "    < statement >\n",
    "}\n",
    "```"
   ]
  },
  {
   "cell_type": "code",
   "execution_count": 24,
   "metadata": {},
   "outputs": [
    {
     "name": "stdout",
     "output_type": "stream",
     "text": [
      "0\n",
      "1\n",
      "2\n",
      "3\n",
      "4\n",
      "5\n"
     ]
    }
   ],
   "source": [
    "for (int i = 0; i <= 5; i++)\n",
    "{\n",
    "    Console.WriteLine(i);\n",
    "}\n"
   ]
  },
  {
   "cell_type": "markdown",
   "metadata": {},
   "source": [
    "## Foreach loop\n",
    "\n",
    "When we have a collection and want to loop through elements.\n",
    "\n",
    "Syntax:\n",
    "\n",
    "```csharp\n",
    "foreach (type variableName in arrayName) \n",
    "{\n",
    "    // code block to be executed\n",
    "}\n",
    "```"
   ]
  },
  {
   "cell_type": "code",
   "execution_count": 25,
   "metadata": {},
   "outputs": [
    {
     "name": "stdout",
     "output_type": "stream",
     "text": [
      "Bengaluru\n",
      "Delhi\n",
      "Mumbai\n"
     ]
    }
   ],
   "source": [
    "string[] cities = {\"Bengaluru\", \"Delhi\", \"Mumbai\"};\n",
    "foreach (string city in cities) \n",
    "{\n",
    "    Console.WriteLine(city);\n",
    "}"
   ]
  },
  {
   "cell_type": "markdown",
   "metadata": {},
   "source": [
    "## While loop\n",
    "\n",
    "Loops through a block of code as long as condition specified is met.\n",
    "\n",
    "Syntax:\n",
    "\n",
    "```csharp\n",
    "while (condition) \n",
    "{\n",
    "    // code block to be executed\n",
    "}\n",
    "```"
   ]
  },
  {
   "cell_type": "code",
   "execution_count": 26,
   "metadata": {},
   "outputs": [
    {
     "name": "stdout",
     "output_type": "stream",
     "text": [
      "0\n",
      "1\n",
      "2\n",
      "3\n",
      "4\n"
     ]
    }
   ],
   "source": [
    "int i = 0;\n",
    "while (i < 5) \n",
    "{\n",
    "    Console.WriteLine(i);\n",
    "    i++;\n",
    "}"
   ]
  },
  {
   "cell_type": "markdown",
   "metadata": {},
   "source": [
    "## Do-While loop\n",
    "\n",
    "Variant of the `while` loop. This loop executes the code block once, before checking the condition is met. It keeps repeating if the condition is met.\n",
    "\n",
    "Syntax:\n",
    "\n",
    "```csharp\n",
    "do \n",
    "{\n",
    "    // code block to be executed\n",
    "}\n",
    "while (condition);\n",
    "```"
   ]
  },
  {
   "cell_type": "code",
   "execution_count": 14,
   "metadata": {},
   "outputs": [
    {
     "name": "stdout",
     "output_type": "stream",
     "text": [
      "0\n",
      "1\n",
      "2\n",
      "3\n",
      "4\n"
     ]
    }
   ],
   "source": [
    "int i = 0;\n",
    "do \n",
    "{\n",
    "  Console.WriteLine(i);\n",
    "  i++;\n",
    "}\n",
    "while (i < 5);"
   ]
  },
  {
   "cell_type": "markdown",
   "metadata": {},
   "source": [
    "# Break & Continue\n",
    "\n",
    "These two keywords are important when in use with loops & conditional statements.\n",
    "\n",
    "\n",
    "## Break\n",
    "\n",
    "Used to jump out of the `switch` statement and also a loop.\n"
   ]
  },
  {
   "cell_type": "code",
   "execution_count": 15,
   "metadata": {},
   "outputs": [
    {
     "name": "stdout",
     "output_type": "stream",
     "text": [
      "0\n",
      "1\n",
      "2\n",
      "3\n"
     ]
    }
   ],
   "source": [
    "for (int i = 0; i < 10; i++) \n",
    "{\n",
    "  if (i == 4) \n",
    "  {\n",
    "    break;\n",
    "  }\n",
    "  Console.WriteLine(i);\n",
    "}"
   ]
  },
  {
   "cell_type": "markdown",
   "metadata": {},
   "source": [
    "# Continue\n",
    "\n",
    "Used to break one iteration, if specific condition is met then continue with the iteration."
   ]
  },
  {
   "cell_type": "code",
   "execution_count": 17,
   "metadata": {},
   "outputs": [
    {
     "name": "stdout",
     "output_type": "stream",
     "text": [
      "0\n",
      "1\n",
      "2\n",
      "3\n",
      "5\n",
      "6\n",
      "7\n",
      "8\n",
      "9\n"
     ]
    }
   ],
   "source": [
    "for (int i = 0; i < 10; i++) \n",
    "{\n",
    "    if (i == 4) \n",
    "    {\n",
    "        // when i is 4, continue and move on to the next iteration\n",
    "        continue;\n",
    "    }\n",
    "    Console.WriteLine(i);\n",
    "}"
   ]
  },
  {
   "cell_type": "code",
   "execution_count": null,
   "metadata": {},
   "outputs": [],
   "source": []
  }
 ],
 "metadata": {
  "kernelspec": {
   "display_name": ".NET (C#)",
   "language": "C#",
   "name": ".net-csharp"
  },
  "language_info": {
   "file_extension": ".cs",
   "mimetype": "text/x-csharp",
   "name": "C#",
   "pygments_lexer": "csharp",
   "version": "8.0"
  }
 },
 "nbformat": 4,
 "nbformat_minor": 4
}
